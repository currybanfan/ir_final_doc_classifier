{
 "cells": [
  {
   "cell_type": "code",
   "execution_count": 2,
   "metadata": {},
   "outputs": [],
   "source": [
    "import re\n",
    "import json\n",
    "import pickle\n",
    "from sklearn.model_selection import train_test_split\n",
    "import json\n",
    "\n",
    "def load_json(file_name):\n",
    "    with open(file_name, 'r', encoding='utf-8') as file:\n",
    "        datas = json.load(file)\n",
    "        contents = [data['content'] for data in datas]\n",
    "    return contents\n",
    "\n",
    "def save_encoded_data(directory, encodings, labels):\n",
    "    # 儲存 encodings\n",
    "    with open(f'{directory}/encodings.pickle', 'wb') as handle:\n",
    "        pickle.dump(encodings, handle, protocol=pickle.HIGHEST_PROTOCOL)\n",
    "\n",
    "    # 儲存 labels\n",
    "    with open(f'{directory}/labels.pickle', 'wb') as handle:\n",
    "        pickle.dump(labels, handle, protocol=pickle.HIGHEST_PROTOCOL)"
   ]
  },
  {
   "cell_type": "markdown",
   "metadata": {},
   "source": [
    "### 生成 encoded data"
   ]
  },
  {
   "cell_type": "code",
   "execution_count": 3,
   "metadata": {},
   "outputs": [],
   "source": [
    "from transformers import BertTokenizer\n",
    "\n",
    "def gen_encoded_data(texts, labels):    \n",
    "    tokenizer = BertTokenizer.from_pretrained('bert-base-chinese')\n",
    "\n",
    "    encodings = tokenizer(texts, truncation=True, padding=True, max_length=256)\n",
    "\n",
    "    return encodings, labels"
   ]
  },
  {
   "cell_type": "markdown",
   "metadata": {},
   "source": [
    "### 刪除垃圾文字"
   ]
  },
  {
   "cell_type": "code",
   "execution_count": 4,
   "metadata": {},
   "outputs": [],
   "source": [
    "def clean_texts(texts):\n",
    "    cleaned_texts = []\n",
    "\n",
    "    for text in texts:\n",
    "        # 移除 ※ [本文轉錄自....]\n",
    "        text = re.sub(r'※ \\[.*?\\] ', '', text)\n",
    "        # 移除作者、看板、標題、時間信息\n",
    "        text = re.sub(r'作者: .*? \\(.*?\\) 看板: .*? 標題: .*? 時間:\\s+\\w{3}\\s+\\w{3}\\s+\\d{1,2}\\s+\\d{2}:\\d{2}:\\d{2}\\s+\\d{4}', '', text)\n",
    "        # 移除網址\n",
    "        text = re.sub(r'http[s]?://\\S+', '', text)\n",
    "        # 移除 ※ ...之銘言\n",
    "        text = re.sub(r'^※.*?之銘言：$', '', text, flags=re.MULTILINE)\n",
    "        # 移除 網誌圖文版 :\n",
    "        text = re.sub(r'.{0,5}?(網誌：|網誌版：|圖文：|圖文版：)', '', text)\n",
    "        # 移除 發信站:\n",
    "        text = re.sub(r'※ 發信站:.*', '', text, flags=re.DOTALL)\n",
    "        # 移除特殊字元\n",
    "        text = re.sub(r'[^\\w。，!?\"]', '', text, flags=re.UNICODE)\n",
    "        # 移除特殊字元特例\n",
    "        text = re.sub(r'_+', '', text)\n",
    "\n",
    "        cleaned_texts.append(text)\n",
    "\n",
    "    return cleaned_texts"
   ]
  },
  {
   "cell_type": "code",
   "execution_count": 5,
   "metadata": {},
   "outputs": [],
   "source": [
    "from sklearn.utils import shuffle\n",
    "\n",
    "texts_non_travel_related = load_json('output/non_travel_related.json')\n",
    "texts_travel_related = load_json('output/travel_related.json')\n",
    "\n",
    "# 清洗文本\n",
    "cleaned_texts_non_travel = clean_texts(texts_non_travel_related)\n",
    "cleaned_texts_travel = clean_texts(texts_travel_related)\n",
    "\n",
    "# 拆分數據為訓練集和測試集\n",
    "# non travel\n",
    "train_texts_non_travel, test_texts_non_travel, train_labels_non_travel, test_labels_non_travel = train_test_split(\n",
    "    cleaned_texts_non_travel, [0]*len(cleaned_texts_non_travel), test_size=0.2, random_state=42)\n",
    "# travel\n",
    "train_texts_travel, test_texts_travel, train_labels_travel, test_labels_travel = train_test_split(\n",
    "    cleaned_texts_travel, [1]*len(cleaned_texts_travel), test_size=0.2, random_state=42)\n",
    "\n",
    "# 合併訓練集和測試集\n",
    "train_texts = train_texts_non_travel + train_texts_travel\n",
    "train_labels = train_labels_non_travel + train_labels_travel\n",
    "test_texts = test_texts_non_travel + test_texts_travel\n",
    "test_labels = test_labels_non_travel + test_labels_travel\n",
    "\n",
    "# shuffle\n",
    "train_texts, train_labels = shuffle(train_texts, train_labels, random_state=42)\n",
    "test_texts, test_labels = shuffle(test_texts, test_labels, random_state=42)\n",
    "\n",
    "# 生成編碼數據\n",
    "train_encodings, train_labels = gen_encoded_data(train_texts, train_labels)\n",
    "test_encodings, test_labels = gen_encoded_data(test_texts, test_labels)\n",
    "\n",
    "# 儲存編碼數據\n",
    "save_encoded_data('encoded_data/train', train_encodings, train_labels)\n",
    "save_encoded_data('encoded_data/test', test_encodings, test_labels)\n",
    "\n",
    "len(train_labels), len(test_labels)"
   ]
  }
 ],
 "metadata": {
  "kernelspec": {
   "display_name": "final",
   "language": "python",
   "name": "python3"
  },
  "language_info": {
   "codemirror_mode": {
    "name": "ipython",
    "version": 3
   },
   "file_extension": ".py",
   "mimetype": "text/x-python",
   "name": "python",
   "nbconvert_exporter": "python",
   "pygments_lexer": "ipython3",
   "version": "3.11.9"
  }
 },
 "nbformat": 4,
 "nbformat_minor": 2
}
