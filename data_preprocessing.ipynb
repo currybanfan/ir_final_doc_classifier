{
 "cells": [
  {
   "cell_type": "code",
   "execution_count": 1,
   "metadata": {},
   "outputs": [
    {
     "name": "stderr",
     "output_type": "stream",
     "text": [
      "c:\\Users\\wei\\Desktop\\programs\\information-retrieval\\ir_final_doc_classifier\\Lib\\site-packages\\tqdm\\auto.py:21: TqdmWarning: IProgress not found. Please update jupyter and ipywidgets. See https://ipywidgets.readthedocs.io/en/stable/user_install.html\n",
      "  from .autonotebook import tqdm as notebook_tqdm\n"
     ]
    }
   ],
   "source": [
    "from data_handler import DataHandler, save_encoded_data, clean_texts, load_json\n",
    "from sklearn.model_selection import train_test_split"
   ]
  },
  {
   "cell_type": "code",
   "execution_count": 2,
   "metadata": {},
   "outputs": [],
   "source": [
    "non_travel_related_data = load_json('filtered_data/non_travel_related.json')\n",
    "travel_related_data = load_json('filtered_data/travel_related.json')\n",
    "\n",
    "texts_non_travel_related = [data['content'] for data in non_travel_related_data]\n",
    "texts_travel_related = [data['content'] for data in travel_related_data]\n",
    "\n",
    "cleaned_texts_non_travel = clean_texts(texts_non_travel_related)\n",
    "cleaned_texts_travel = clean_texts(texts_travel_related)\n",
    "\n",
    "test_size = 0.2\n",
    "\n",
    "train_texts_non_travel, test_texts_non_travel, train_labels_non_travel, test_labels_non_travel = train_test_split(\n",
    "  cleaned_texts_non_travel, [0]*len(cleaned_texts_non_travel), test_size=test_size, random_state=42)\n",
    "\n",
    "train_texts_travel, test_texts_travel, train_labels_travel, test_labels_travel = train_test_split(\n",
    "  cleaned_texts_travel, [1]*len(cleaned_texts_travel), test_size=test_size, random_state=42)\n",
    "\n",
    "train_texts = train_texts_non_travel + train_texts_travel\n",
    "train_labels = train_labels_non_travel + train_labels_travel\n",
    "\n",
    "test_texts = test_texts_non_travel + test_texts_travel\n",
    "test_labels = test_labels_non_travel + test_labels_travel"
   ]
  },
  {
   "cell_type": "code",
   "execution_count": 3,
   "metadata": {},
   "outputs": [],
   "source": [
    "from sklearn.utils import shuffle\n",
    "\n",
    "data_handler = DataHandler(tokenizer_name='bert-base-chinese')\n",
    "\n",
    "train_texts, train_labels = shuffle(train_texts, train_labels, random_state=42)\n",
    "test_texts, test_labels = shuffle(test_texts, test_labels, random_state=42)\n",
    "\n",
    "train_encodings = data_handler.gen_encoded_data(train_texts, max_length=512)\n",
    "test_encodings = data_handler.gen_encoded_data(test_texts, max_length=512)\n",
    "\n",
    "save_encoded_data('encoded_data/train', train_encodings, train_labels)\n",
    "save_encoded_data('encoded_data/test', test_encodings, test_labels)"
   ]
  }
 ],
 "metadata": {
  "kernelspec": {
   "display_name": "final",
   "language": "python",
   "name": "python3"
  },
  "language_info": {
   "codemirror_mode": {
    "name": "ipython",
    "version": 3
   },
   "file_extension": ".py",
   "mimetype": "text/x-python",
   "name": "python",
   "nbconvert_exporter": "python",
   "pygments_lexer": "ipython3",
   "version": "3.11.9"
  }
 },
 "nbformat": 4,
 "nbformat_minor": 2
}
