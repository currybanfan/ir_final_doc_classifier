{
 "cells": [
  {
   "cell_type": "code",
   "execution_count": 1,
   "metadata": {},
   "outputs": [
    {
     "name": "stderr",
     "output_type": "stream",
     "text": [
      "c:\\Users\\wei\\Desktop\\programs\\information-retrieval\\ir_final_doc_classifier\\Lib\\site-packages\\tqdm\\auto.py:21: TqdmWarning: IProgress not found. Please update jupyter and ipywidgets. See https://ipywidgets.readthedocs.io/en/stable/user_install.html\n",
      "  from .autonotebook import tqdm as notebook_tqdm\n"
     ]
    }
   ],
   "source": [
    "from data_handler import DataHandler, save_encoded_data, clean_text, load_json\n",
    "from sklearn.model_selection import train_test_split\n",
    "from tqdm import tqdm"
   ]
  },
  {
   "cell_type": "code",
   "execution_count": 4,
   "metadata": {},
   "outputs": [
    {
     "name": "stderr",
     "output_type": "stream",
     "text": [
      "Processing non-travel related data: 100%|██████████| 14439/14439 [00:00<00:00, 25663.36it/s]\n",
      "Processing travel related data: 100%|██████████| 39072/39072 [00:06<00:00, 6238.88it/s]\n"
     ]
    }
   ],
   "source": [
    "non_travel_related_data = load_json('filtered_data/non_travel_related.json')\n",
    "travel_related_data = load_json('filtered_data/travel_related.json')\n",
    "\n",
    "cleaned_texts_non_travel = []\n",
    "cleaned_texts_travel = []\n",
    "\n",
    "for data in tqdm(non_travel_related_data, desc=\"Processing non-travel related data\"):\n",
    "    text = data['content']\n",
    "    cleaned_text = clean_text(text)\n",
    "    cleaned_texts_non_travel.append(cleaned_text)\n",
    "\n",
    "for data in tqdm(travel_related_data, desc=\"Processing travel related data\"):\n",
    "    text = data['content']\n",
    "    cleaned_text = clean_text(text)\n",
    "    cleaned_texts_travel.append(cleaned_text)\n",
    "\n",
    "cleaned_texts_all = cleaned_texts_non_travel + cleaned_texts_travel\n",
    "\n",
    "test_size = 0.2\n",
    "\n",
    "train_texts_non_travel, test_texts_non_travel, train_labels_non_travel, test_labels_non_travel = train_test_split(\n",
    "  cleaned_texts_non_travel, [0]*len(cleaned_texts_non_travel), test_size=test_size, random_state=42)\n",
    "\n",
    "train_texts_travel, test_texts_travel, train_labels_travel, test_labels_travel = train_test_split(\n",
    "  cleaned_texts_travel, [1]*len(cleaned_texts_travel), test_size=test_size, random_state=42)\n",
    "\n",
    "train_texts = train_texts_non_travel + train_texts_travel\n",
    "train_labels = train_labels_non_travel + train_labels_travel\n",
    "\n",
    "test_texts = test_texts_non_travel + test_texts_travel\n",
    "test_labels = test_labels_non_travel + test_labels_travel"
   ]
  },
  {
   "cell_type": "code",
   "execution_count": 5,
   "metadata": {},
   "outputs": [],
   "source": [
    "from sklearn.utils import shuffle\n",
    "\n",
    "data_handler = DataHandler(tokenizer_name='bert-base-chinese')\n",
    "\n",
    "train_texts, train_labels = shuffle(train_texts, train_labels, random_state=42)\n",
    "test_texts, test_labels = shuffle(test_texts, test_labels, random_state=42)"
   ]
  },
  {
   "cell_type": "code",
   "execution_count": 6,
   "metadata": {},
   "outputs": [],
   "source": [
    "train_encodings = data_handler.gen_encoded_data(train_texts, max_length=512)\n",
    "test_encodings = data_handler.gen_encoded_data(test_texts, max_length=512)\n",
    "all_encodings = data_handler.gen_encoded_data(cleaned_texts_all, max_length=512)\n",
    "\n",
    "save_encoded_data('encoded_data/train/encodings_512', train_encodings)\n",
    "save_encoded_data('encoded_data/train/labels', train_labels)\n",
    "save_encoded_data('encoded_data/test/encodings_512', test_encodings)\n",
    "save_encoded_data('encoded_data/test/labels', test_labels)\n",
    "save_encoded_data('encoded_data/all_512', all_encodings)"
   ]
  },
  {
   "cell_type": "code",
   "execution_count": 7,
   "metadata": {},
   "outputs": [],
   "source": [
    "train_encodings = data_handler.gen_encoded_data(train_texts, max_length=256)\n",
    "test_encodings = data_handler.gen_encoded_data(test_texts, max_length=256)\n",
    "all_encodings = data_handler.gen_encoded_data(cleaned_texts_all, max_length=256)\n",
    "\n",
    "save_encoded_data('encoded_data/train/encodings_256', train_encodings)\n",
    "save_encoded_data('encoded_data/test/encodings_256', test_encodings)"
   ]
  },
  {
   "cell_type": "code",
   "execution_count": 1,
   "metadata": {},
   "outputs": [
    {
     "name": "stderr",
     "output_type": "stream",
     "text": [
      "c:\\Users\\wei\\Desktop\\programs\\information-retrieval\\ir_final_doc_classifier\\Lib\\site-packages\\tqdm\\auto.py:21: TqdmWarning: IProgress not found. Please update jupyter and ipywidgets. See https://ipywidgets.readthedocs.io/en/stable/user_install.html\n",
      "  from .autonotebook import tqdm as notebook_tqdm\n"
     ]
    }
   ],
   "source": [
    "from data_handler import clean_text, load_json"
   ]
  },
  {
   "cell_type": "code",
   "execution_count": 2,
   "metadata": {},
   "outputs": [
    {
     "data": {
      "text/plain": [
       "39072"
      ]
     },
     "execution_count": 2,
     "metadata": {},
     "output_type": "execute_result"
    }
   ],
   "source": [
    "data = load_json('filtered_data/travel_related.json')\n",
    "\n",
    "len(data)"
   ]
  },
  {
   "cell_type": "code",
   "execution_count": 5,
   "metadata": {},
   "outputs": [
    {
     "name": "stdout",
     "output_type": "stream",
     "text": [
      "大巴的結構是雙層的， 右側雙人座，左側單人座，座位旁邊有梯子，讓乘客爬上上方的臥鋪，下層的座位和上層 的臥鋪旁都有窗戶。 一上車自然感到悶熱異常，但車子開始行駛之後，因為有風（雖然是熱風），所以還算可 以忍受，但在上車兩三個小時之後，突然間啪啪啪的幾聲，有什麼不明的黃色黏稠物（還 帶顆粒狀及疑似馬鈴薯的東西）噴到男友旁邊的窗戶上（慶幸我沒坐在那個位置），還帶 股濃烈的惡臭！我尖叫著連忙把窗戶關上，前後兩排的乘客也趕緊跟進。我們一路猜測那 是什麼，邊覺得疑惑噁心。 窗戶關上後雖然有點悶，但畢竟車上大部分的窗戶都是開著的，所以還能忍受。沒想到過 了幾個小時，走到另一側的窗戶也受到不明黏稠物的襲擊。再過一陣子，前頭的窗戶遭遇 不明液體波撒。……我一直不想承認，但那個不明黏稠物真的長得很像咖哩！ 忘了提一件事，搭乘無空調大巴的車程很久，但中間幾乎不停下來休息，此趟七小時車程 只有休息過一次（15分鐘），那些不明物體究竟是什麼，請大家自行想像。後來我們到巴 士站，發現很多台大巴的側面都有不明黃色物體的痕跡。囧 ● 悶熱的天氣，爆炸的輪胎 （圖）換輪胎的司機與圍觀的群眾 倒楣的男友，不僅坐在窗邊有隨時被襲擊的可能，還剛好坐在輪胎的正上方。因為天氣實 在太熱，男友一上車就拖了鞋子，並不時抱怨地板很燙，其實他心中早已暗暗擔心可能會 發生爆胎事件。結果，念頭一閃過，地板下突然傳出很大的聲響和振動！爆胎了！乘客們 只好在大熱天默默下車等待換胎（同最上面那一張圖）。 ● 悶熱的天氣，爆炸的乘客 因為車上悶熱，車中瀰漫著一股壓抑的氣氛，突然間，有一個買站票的乘客突然從駕駛艙 旁邊的空位快速走到座位中間的走道，然後狠狠踹了另一個買站票的乘客！哇咧！什麼跟 什麼啊！！ 眼看兩邊就要打起來了，旁邊的人拚命拉住火爆的雙方，接著，司機突然把車停在一個荒 郊野外的雜貨店門口，肇事者、司機、車掌、一堆男性乘客就一個接一個下車。雜貨店裡 走出幾個印度男性迎接他們，然後一群人就走進店裡，還有很多站在店門口圍觀，然後， 突然很多不知打哪來的村民，三三兩兩，或騎機車或走路，到了店門口就下車走進去。 我問旁邊沒下車的印度人發生啥事？畢竟司機不在，所有乘客只能在原地空等。他只回答 再過五分鐘。……再過五分鐘什麼啊？牛頭不對馬嘴的。結果最後我們等了三十分鐘，裡 頭的人才把事情橋好。 ● 悶熱的天氣，跟著爆炸的司機 這趟巴士之旅實在乖桀，好不容易橋好打架的雙方，大巴重新上路沒多久，司機突然一個 緊急煞車，全車乘客都被嚇了好大一跳！正當所有人都在疑惑發生何事時？ 司機突然消失了！！！ 我們往外看，原來剛才的緊急煞車是一台從田裡殺出來的工作機惹的禍，不知道是大巴司 機開太快，還是工作機司機閃出來得太突然。 總之，消失的司機絡了車掌一起下去揍他了！ 天啊！這什麼大巴啊！！！ 所有的乘客都站起來圍觀，看著司機和車掌圍毆工作機司機，沒有人出聲阻止！還好司機 和車掌只下去奏兩拳踹兩腳，意思意思發洩一下，就連忙上車啟程了。（其實我跟阿閃覺 得最奇怪的是，那個工作機司機完全沒有反擊，就任他們圍毆……，難道他自覺理虧嗎？ ） 經歷酷熱、不明發臭的物體襲擊、車上打群架、司機絡車掌下去打人……，所幸，我們最 後都平安且準時地到達目的地！ -- 延伸閱讀： 可怕的大巴（九寨溝篇）http://weitzern.pixnet.net/blog/post/26067894 可怕的大巴（雲南篇）http://weitzern.pixnet.net/blog/post/26096525 -- ※ 發信站: 批踢踢實業坊(ptt.cc) ◆ From: 122.169.29.163 ※ weitzern 05/23 15:37 -- ◆ From: 122.169.29.163\n",
      "----------------------------------------------------------------\n"
     ]
    },
    {
     "data": {
      "text/plain": [
       "'大巴的結構是雙層的， 右側雙人座，左側單人座，座位旁邊有梯子，讓乘客爬上上方的臥鋪，下層的座位和上層 的臥鋪旁都有窗戶。 一上車自然感到悶熱異常，但車子開始行駛之後，因為有風 雖然是熱風 ，所以還算可 以忍受，但在上車兩三個小時之後，突然間啪啪啪的幾聲，有什麼不明的黃色黏稠物 還 帶顆粒狀及疑似馬鈴薯的東西 噴到男友旁邊的窗戶上 慶幸我沒坐在那個位置 ，還帶 股濃烈的惡臭 我尖叫著連忙把窗戶關上，前後兩排的乘客也趕緊跟進。我們一路猜測那 是什麼，邊覺得疑惑噁心。 窗戶關上後雖然有點悶，但畢竟車上大部分的窗戶都是開著的，所以還能忍受。沒想到過 了幾個小時，走到另一側的窗戶也受到不明黏稠物的襲擊。再過一陣子，前頭的窗戶遭遇 不明液體波撒。 我一直不想承認，但那個不明黏稠物真的長得很像咖哩 忘了提一件事，搭乘無空調大巴的車程很久，但中間幾乎不停下來休息，此趟七小時車程 只有休息過一次 15分鐘 ，那些不明物體究竟是什麼，請大家自行想像。後來我們到巴 士站，發現很多台大巴的側面都有不明黃色物體的痕跡。囧 悶熱的天氣，爆炸的輪胎 圖 換輪胎的司機與圍觀的群眾 倒楣的男友，不僅坐在窗邊有隨時被襲擊的可能，還剛好坐在輪胎的正上方。因為天氣實 在太熱，男友一上車就拖了鞋子，並不時抱怨地板很燙，其實他心中早已暗暗擔心可能會 發生爆胎事件。結果，念頭一閃過，地板下突然傳出很大的聲響和振動 爆胎了 乘客們 只好在大熱天默默下車等待換胎 同最上面那一張圖 。 悶熱的天氣，爆炸的乘客 因為車上悶熱，車中瀰漫著一股壓抑的氣氛，突然間，有一個買站票的乘客突然從駕駛艙 旁邊的空位快速走到座位中間的走道，然後狠狠踹了另一個買站票的乘客 哇咧 什麼跟 什麼啊 眼看兩邊就要打起來了，旁邊的人拚命拉住火爆的雙方，接著，司機突然把車停在一個荒 郊野外的雜貨店門口，肇事者 司機 車掌 一堆男性乘客就一個接一個下車。雜貨店裡 走出幾個印度男性迎接他們，然後一群人就走進店裡，還有很多站在店門口圍觀，然後， 突然很多不知打哪來的村民，三三兩兩，或騎機車或走路，到了店門口就下車走進去。 我問旁邊沒下車的印度人發生啥事 畢竟司機不在，所有乘客只能在原地空等。他只回答 再過五分鐘。 再過五分鐘什麼啊 牛頭不對馬嘴的。結果最後我們等了三十分鐘，裡 頭的人才把事情橋好。 悶熱的天氣，跟著爆炸的司機 這趟巴士之旅實在乖桀，好不容易橋好打架的雙方，大巴重新上路沒多久，司機突然一個 緊急煞車，全車乘客都被嚇了好大一跳 正當所有人都在疑惑發生何事時 司機突然消失了 我們往外看，原來剛才的緊急煞車是一台從田裡殺出來的工作機惹的禍，不知道是大巴司 機開太快，還是工作機司機閃出來得太突然。 總之，消失的司機絡了車掌一起下去揍他了 天啊 這什麼大巴啊 所有的乘客都站起來圍觀，看著司機和車掌圍毆工作機司機，沒有人出聲阻止 還好司機 和車掌只下去奏兩拳踹兩腳，意思意思發洩一下，就連忙上車啟程了。 其實我跟阿閃覺 得最奇怪的是，那個工作機司機完全沒有反擊，就任他們圍毆 ，難道他自覺理虧嗎 經歷酷熱 不明發臭的物體襲擊 車上打群架 司機絡車掌下去打人 ，所幸，我們最 後都平安且準時地到達目的地 延伸閱讀 可怕的大巴 九寨溝篇 可怕的大巴 雲南篇'"
      ]
     },
     "execution_count": 5,
     "metadata": {},
     "output_type": "execute_result"
    }
   ],
   "source": [
    "content = data[3]['content'][600:]\n",
    "\n",
    "print(content)\n",
    "print('----------------------------------------------------------------')\n",
    "\n",
    "cleaned_text = clean_text(content)\n",
    "\n",
    "cleaned_text"
   ]
  }
 ],
 "metadata": {
  "kernelspec": {
   "display_name": "final",
   "language": "python",
   "name": "python3"
  },
  "language_info": {
   "codemirror_mode": {
    "name": "ipython",
    "version": 3
   },
   "file_extension": ".py",
   "mimetype": "text/x-python",
   "name": "python",
   "nbconvert_exporter": "python",
   "pygments_lexer": "ipython3",
   "version": "3.11.9"
  }
 },
 "nbformat": 4,
 "nbformat_minor": 2
}
