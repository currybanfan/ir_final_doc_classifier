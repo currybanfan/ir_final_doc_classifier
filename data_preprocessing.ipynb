{
 "cells": [
  {
   "cell_type": "code",
   "execution_count": null,
   "metadata": {},
   "outputs": [],
   "source": [
    "from .data_handler import DataHandler\n",
    "import re\n",
    "import json\n",
    "from sklearn.model_selection import train_test_split"
   ]
  },
  {
   "cell_type": "code",
   "execution_count": null,
   "metadata": {},
   "outputs": [],
   "source": [
    "def clean_texts(texts):\n",
    "    cleaned_texts = []\n",
    "    for text in texts:\n",
    "      text = re.sub(r'※ \\[.*?\\] ', '', text)\n",
    "      text = re.sub(r'作者: .*? \\(.*?\\) 看板: .*? 標題: .*? 時間:\\s+\\w{3}\\s+\\w{3}\\s+\\d{1,2}\\s+\\d{2}:\\d{2}:\\d{2}\\s+\\d{4}', '', text)\n",
    "      text = re.sub(r'http[s]?://\\S+', '', text)\n",
    "      text = re.sub(r'^※.*?之銘言：$', '', text, flags=re.MULTILINE)\n",
    "      text = re.sub(r'.{0,5}?(網誌：|網誌版：|圖文：|圖文版：)', '', text)\n",
    "      text = re.sub(r'※ 發信站:.*', '', text, flags=re.DOTALL)\n",
    "      text = re.sub(r'[^\\w。，!?\"]', '', text, flags=re.UNICODE)\n",
    "      text = re.sub(r'_+', '', text)\n",
    "      cleaned_texts.append(text)\n",
    "\n",
    "    return cleaned_texts\n",
    "\n",
    "def load_json(file_name):\n",
    "    with open(file_name, 'r', encoding='utf-8') as file:\n",
    "      datas = json.load(file)\n",
    "      contents = [data['content'] for data in datas]\n",
    "      \n",
    "    return contents"
   ]
  },
  {
   "cell_type": "code",
   "execution_count": null,
   "metadata": {},
   "outputs": [],
   "source": [
    "def preprocess_travel_data(travel_data_dir, test_size=0.2):\n",
    "    texts_non_travel_related = load_json(travel_data_dir + '/non_travel_related.json')\n",
    "    texts_travel_related = load_json(travel_data_dir + '/travel_related,json')\n",
    "   \n",
    "    cleaned_texts_non_travel = clean_texts(texts_non_travel_related)\n",
    "    cleaned_texts_travel = clean_texts(texts_travel_related)\n",
    "\n",
    "    train_texts_non_travel, test_texts_non_travel, train_labels_non_travel, test_labels_non_travel = train_test_split(\n",
    "      cleaned_texts_non_travel, [0]*len(cleaned_texts_non_travel), test_size=test_size, random_state=42)\n",
    "    \n",
    "    train_texts_travel, test_texts_travel, train_labels_travel, test_labels_travel = train_test_split(\n",
    "      cleaned_texts_travel, [1]*len(cleaned_texts_travel), test_size=test_size, random_state=42)\n",
    "    \n",
    "    train_texts = train_texts_non_travel + train_texts_travel\n",
    "    train_labels = train_labels_non_travel + train_labels_travel\n",
    "    test_texts = test_texts_non_travel + test_texts_travel\n",
    "    test_labels = test_labels_non_travel + test_labels_travel\n",
    "\n",
    "    return train_texts, train_labels, test_texts, test_labels"
   ]
  },
  {
   "cell_type": "code",
   "execution_count": null,
   "metadata": {},
   "outputs": [],
   "source": [
    "travel_data_dir = 'output'\n",
    "train_texts, train_labels, test_texts, test_labels = preprocess_travel_data(travel_data_dir, test_size=0.2)\n",
    "\n",
    "data_handler = DataHandler(tokenizer_name='bert-base-chinese')\n",
    "\n",
    "train_encodings = data_handler.gen_encoded_data(train_texts, train_labels, max_length=256)\n",
    "test_encodings = data_handler.gen_encoded_data(test_texts, test_labels, max_length=256)\n",
    "\n",
    "data_handler.save_encoded_data('encoded_data/train', train_encodings, train_labels)\n",
    "data_handler.save_encoded_data('encoded_data/test', test_encodings, test_labels)"
   ]
  }
 ],
 "metadata": {
  "kernelspec": {
   "display_name": "final",
   "language": "python",
   "name": "python3"
  },
  "language_info": {
   "name": "python",
   "version": "3.11.9"
  }
 },
 "nbformat": 4,
 "nbformat_minor": 2
}
