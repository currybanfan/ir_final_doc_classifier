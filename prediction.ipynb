{
 "cells": [
  {
   "cell_type": "code",
   "execution_count": 1,
   "metadata": {},
   "outputs": [
    {
     "name": "stderr",
     "output_type": "stream",
     "text": [
      "c:\\Users\\wei\\Desktop\\programs\\information-retrieval\\ir_final_doc_classifier\\Lib\\site-packages\\tqdm\\auto.py:21: TqdmWarning: IProgress not found. Please update jupyter and ipywidgets. See https://ipywidgets.readthedocs.io/en/stable/user_install.html\n",
      "  from .autonotebook import tqdm as notebook_tqdm\n"
     ]
    }
   ],
   "source": [
    "import torch\n",
    "from data_handler import DataHandler, load_json, save_json\n",
    "from model import TravelDocClassifier\n",
    "from cuda_utils import clear_cache, print_cuda_memory_info\n",
    "from tqdm import tqdm"
   ]
  },
  {
   "cell_type": "code",
   "execution_count": 2,
   "metadata": {},
   "outputs": [
    {
     "name": "stdout",
     "output_type": "stream",
     "text": [
      "Device: NVIDIA GeForce RTX 4070 SUPER\n",
      "Total Memory: 12.88 GB\n",
      "Reserved Memory: 0.00 GB\n",
      "Allocated Memory: 0.00 GB\n",
      "Free Memory: 0.00 GB\n"
     ]
    }
   ],
   "source": [
    "clear_cache()\n",
    "print_cuda_memory_info()"
   ]
  },
  {
   "cell_type": "code",
   "execution_count": 3,
   "metadata": {},
   "outputs": [],
   "source": [
    "filtered_data = load_json('filtered_data/all.json')"
   ]
  },
  {
   "cell_type": "code",
   "execution_count": 4,
   "metadata": {},
   "outputs": [],
   "source": [
    "data_handler = DataHandler(tokenizer_name='bert-base-chinese')\n",
    "device = torch.device(\"cuda\" if torch.cuda.is_available() else \"cpu\")\n",
    "\n",
    "inputs = [data_handler.prepare_input_for_prediction(doc['content']) for doc in filtered_data]\n",
    "\n",
    "classifier = TravelDocClassifier(device=device, params_path='parameters/20240602_94_model_parameters.pth')\n",
    "\n",
    "pred_labels  = classifier.predict(input)\n",
    "\n",
    "travel_related = []\n",
    "non_travel_related = []\n",
    "\n",
    "for i, pred_label in enumerate(pred_labels):\n",
    "    if pred_label == 1:\n",
    "        travel_related.append(filtered_data[i])\n",
    "    else:\n",
    "        non_travel_related.append(filtered_data[i])\n",
    "\n",
    "len(travel_related), len(non_travel_related)"
   ]
  },
  {
   "cell_type": "code",
   "execution_count": null,
   "metadata": {},
   "outputs": [],
   "source": [
    "save_json(travel_related, 'results/travel_related_predictions.json')\n",
    "save_json(non_travel_related, 'results/non_travel_related_predictions.json')"
   ]
  }
 ],
 "metadata": {
  "kernelspec": {
   "display_name": "ir_final_doc_classifier",
   "language": "python",
   "name": "python3"
  },
  "language_info": {
   "codemirror_mode": {
    "name": "ipython",
    "version": 3
   },
   "file_extension": ".py",
   "mimetype": "text/x-python",
   "name": "python",
   "nbconvert_exporter": "python",
   "pygments_lexer": "ipython3",
   "version": "3.11.9"
  }
 },
 "nbformat": 4,
 "nbformat_minor": 2
}
