{
 "cells": [
  {
   "cell_type": "code",
   "execution_count": 2,
   "metadata": {},
   "outputs": [
    {
     "name": "stderr",
     "output_type": "stream",
     "text": [
      "c:\\Users\\wei\\Desktop\\programs\\information-retrieval\\ir_final_doc_classifier\\Lib\\site-packages\\tqdm\\auto.py:21: TqdmWarning: IProgress not found. Please update jupyter and ipywidgets. See https://ipywidgets.readthedocs.io/en/stable/user_install.html\n",
      "  from .autonotebook import tqdm as notebook_tqdm\n"
     ]
    }
   ],
   "source": [
    "import torch\n",
    "from data_handler import create_dataset, save_json, load_json, load_encoded_data\n",
    "from model import TravelDocClassifier\n",
    "from cuda_utils import clear_cache, print_cuda_memory_info"
   ]
  },
  {
   "cell_type": "code",
   "execution_count": 9,
   "metadata": {},
   "outputs": [
    {
     "name": "stdout",
     "output_type": "stream",
     "text": [
      "Device: NVIDIA GeForce RTX 4070 SUPER\n",
      "Total Memory: 12.88 GB\n",
      "Reserved Memory: 0.52 GB\n",
      "Allocated Memory: 0.42 GB\n",
      "Free Memory: 0.10 GB\n"
     ]
    }
   ],
   "source": [
    "clear_cache()\n",
    "print_cuda_memory_info()"
   ]
  },
  {
   "cell_type": "code",
   "execution_count": 10,
   "metadata": {},
   "outputs": [],
   "source": [
    "encoded_data = load_encoded_data('encoded_data/all_512')\n",
    "filtered_data = load_json('filtered_data/all.json')"
   ]
  },
  {
   "cell_type": "code",
   "execution_count": 11,
   "metadata": {},
   "outputs": [
    {
     "name": "stderr",
     "output_type": "stream",
     "text": [
      "Some weights of BertForSequenceClassification were not initialized from the model checkpoint at bert-base-chinese and are newly initialized: ['classifier.bias', 'classifier.weight']\n",
      "You should probably TRAIN this model on a down-stream task to be able to use it for predictions and inference.\n"
     ]
    }
   ],
   "source": [
    "device = torch.device(\"cuda\" if torch.cuda.is_available() else \"cpu\")\n",
    "classifier = TravelDocClassifier(device=device, params_path='parameters/20240603_95_model_parameters.pth')"
   ]
  },
  {
   "cell_type": "code",
   "execution_count": 12,
   "metadata": {},
   "outputs": [
    {
     "data": {
      "text/plain": [
       "(39085, 14426)"
      ]
     },
     "execution_count": 12,
     "metadata": {},
     "output_type": "execute_result"
    }
   ],
   "source": [
    "test_dataset = create_dataset(encoded_data)\n",
    "\n",
    "pred_labels = classifier.predict_all(test_dataset)\n",
    "\n",
    "travel_related = []\n",
    "non_travel_related = []\n",
    "\n",
    "for i, pred_label in enumerate(pred_labels):\n",
    "    if pred_label == 1:\n",
    "        travel_related.append(filtered_data[i])\n",
    "    else:\n",
    "        non_travel_related.append(filtered_data[i])\n",
    "\n",
    "len(travel_related), len(non_travel_related)"
   ]
  },
  {
   "cell_type": "code",
   "execution_count": 13,
   "metadata": {},
   "outputs": [],
   "source": [
    "save_json(travel_related, 'results/travel_related_predictions.json')\n",
    "save_json(non_travel_related, 'results/non_travel_related_predictions.json')"
   ]
  },
  {
   "cell_type": "code",
   "execution_count": 10,
   "metadata": {},
   "outputs": [],
   "source": [
    "import re\n",
    "\n",
    "travel_related_titles = ['遊記', '心得', '問題', '食記', '徵伴', '分享', '住宿', '新聞', '黑特', '旅遊', '玩樂', '請益', '美食', '抱怨', '推薦']\n",
    "\n",
    "# 徵求 揪團 廣宣 活動\n",
    "non_travel_related_titles = ['交易', '廣告', '情報', '問卷', '資訊', '徵求', '公告', '講座', '揪團', '贈送', '閒聊', '轉讓', '廣宣', '活動', '已售出', '售出', '票券', '請問', '轉錄', '買賣', '徵']\n",
    "\n",
    "travel_pattern = re.compile(r'\\[' + '|'.join(travel_related_titles) + r'\\]')\n",
    "non_travel_pattern = re.compile(r'\\[' + '|'.join(non_travel_related_titles) + r'\\]')"
   ]
  },
  {
   "cell_type": "code",
   "execution_count": 21,
   "metadata": {},
   "outputs": [],
   "source": [
    "predictions_non_travel_data  = load_json('results/non_travel_related_predictions.json')\n",
    "predictions_travel_data  = load_json('results/travel_related_predictions.json')\n",
    "\n",
    "misclassified_data = {\n",
    "    'predicted_travel_but_non_travel': [],\n",
    "    'predicted_non_travel_but_travel': []\n",
    "}\n",
    "\n",
    "# 找出預測為旅遊但實際上不是旅遊的資料\n",
    "for data in predictions_travel_data:\n",
    "  title = data['title']\n",
    "  if re.search(non_travel_pattern, title):\n",
    "    misclassified_data['predicted_travel_but_non_travel'].append(data)\n",
    "\n",
    "# 找出預測為非旅遊但實際上是旅遊的資料\n",
    "for data in predictions_non_travel_data:\n",
    "  title = data['title']\n",
    "  if re.search(travel_pattern, title):\n",
    "    misclassified_data['predicted_non_travel_but_travel'].append(data)"
   ]
  },
  {
   "cell_type": "code",
   "execution_count": 22,
   "metadata": {},
   "outputs": [
    {
     "data": {
      "text/plain": [
       "15149"
      ]
     },
     "execution_count": 22,
     "metadata": {},
     "output_type": "execute_result"
    }
   ],
   "source": [
    "len(misclassified_data['predicted_travel_but_non_travel'])"
   ]
  },
  {
   "cell_type": "code",
   "execution_count": 23,
   "metadata": {},
   "outputs": [
    {
     "data": {
      "text/plain": [
       "11703"
      ]
     },
     "execution_count": 23,
     "metadata": {},
     "output_type": "execute_result"
    }
   ],
   "source": [
    "len(misclassified_data['predicted_non_travel_but_travel'])"
   ]
  },
  {
   "cell_type": "code",
   "execution_count": 28,
   "metadata": {},
   "outputs": [
    {
     "name": "stdout",
     "output_type": "stream",
     "text": [
      "預測為旅遊但實際上不是旅遊的資料:\n",
      "caase: 1\n",
      "{'title': '[交易] 收購易遊網旅券3-4萬', 'author': 'tclin076', 'time': {'year': '2024', 'month': 2, 'date': '25', 'hour': '16', 'minute': '02'}, 'content': '交易ID/交易者稱呼 ：tclin076 交易物品簡介或網址： 收購易遊網旅券3-4萬 聯絡方式：站內信 注意事項及補充說明：台北、台中可面交 --'}\n",
      "caase: 2\n",
      "{'title': '[廣告] 納米比亞紅人沙漠、辛巴威13天', 'author': 'hsuans', 'time': {'year': '2017', 'month': 9, 'date': '21', 'hour': '10', 'minute': '27'}, 'content': '※ [本文轉錄自 Tour-Agency 看板 #1PmoDnL7 ] 作者: hsuans (大豆) 看板: Tour-Agency 標題: [情報] 納米比亞紅人沙漠、辛巴威13天 時間: Thu Sep 21 10:26:54 2017 ◎ 請注意旅行社廠商自介過後保證為正常經營廠商絕非靠行，才可發情報文。 \\u3000◎ 情報文除了行程資訊與報價外，請詳述給 PTT鄉民 的實質優惠，謝謝。（必要） --< 以下為情報文 >-- 納米比亞紅人沙漠、辛巴威維多利亞瀑布13日(觀景飛機雙飛) https://goo.gl/g6UDzH 有一群人，天生就是「紅人」 你以為世界都去過了嗎 世界上最大的瀑布--維多利亞瀑布 世界最不值錢的辛巴威紙鈔 還有世界最有名的紅人沙漠 要你親自體驗 10/20出發，本團已額滿，缺一單女，現有5000折價。 -- LINE ID:HSUANS 大豆 名\\u3000\\u3000稱:理想旅運社股份有限公司-綜合旅行社 電\\u3000\\u3000話:(02)7729-1000 分機225 註冊編號：交觀綜2118．品保北100號 業務專員: 潘宣吾 LINE: hsuans PTT 使用記錄: 登入次數 5372 次 / 文章 8712 篇 -- ※ 發信站: 批踢踢實業坊(ptt.cc), 來自: 59.124.211.133 ※ 文章網址: https://www.ptt.cc/bbs/Tour-Agency/M.1505960817.A.547.html'}\n",
      "caase: 3\n",
      "{'title': '[交易] 義大五星飯店3/17-3/18四人房', 'author': 'coffeeyeh', 'time': {'year': '2019', 'month': 3, 'date': '14', 'hour': '10', 'minute': '27'}, 'content': '交易ID/交易者稱呼 ：Alana 交易物品簡介或網址： 義大皇家酒店 https://www.edaroyal.com.tw/ 轉讓房型：豪華家庭房 早餐： 包含 訂房原價：5613/晚 售：4200 但發票要讓給我 因為客人臨時有事無法前往；不能取消了。所以希望有緣人 聯絡方式：站內信 注意事項及補充說明： -- ※ 發信站: 批踢踢實業坊(ptt.cc), 來自: 59.127.74.232'}\n",
      "caase: 4\n",
      "{'title': '[交易] toyota 華航 雙人來回機票(已售出)', 'author': 'metro', 'time': {'year': '2017', 'month': 12, 'date': '13', 'hour': '23', 'minute': '23'}, 'content': '交易ID/交易者稱呼 ：游先生 交易物品簡介或網址：TOYOTA亞洲16城市自由選 日、韓、新加坡共16個城市的雙人來回機票。 不含機場稅金、規費、兵險、燃油附加費，限開立電子機票。 限於2018年8月31日前依兌換方法完成兌換，逾期視為放棄兌換權利。 一組兩張，售12,000元 聯絡方式：站內信 注意事項及補充說明： 使用方式請參考兌換證明的相關規定 交易地點台北市 -- ※ 發信站: 批踢踢實業坊(ptt.cc), 來自: 36.225.50.67'}\n",
      "caase: 5\n",
      "{'title': '[交易] 冰島賞鯨票', 'author': 'clse1512', 'time': {'year': '2017', 'month': 8, 'date': '13', 'hour': '19', 'minute': '02'}, 'content': '交易ID/交易者稱呼 ： Bill 交易物品簡介或網址： 商品：冰島賞鯨船票（無使用期限） 價格：1500 一張（ 可拆售） 賞鯨公司名稱：North Sailing 賞鯨船是從Husavil出發 Tripadvisor 有相關評價： https://goo.gl/pZQeUN 原票價近3000台幣。總航程約3小時，業者宣稱有95%以上的機率看到鯨魚，會沿著海灣行 駛並簡易介紹環境。 我們因為今年四月初去季節不對所以只看到海豚，如果沒看到鯨魚的話公司在上岸時會再 給你無期限的船票乙張。 使用前請先通知賞鯨公司完成訂位 聯絡方式： 站內信 注意事項及補充說明： 小弟目前在蘇格蘭 9/19才會回台灣，台北地區可面交 其他地區可郵寄免郵寄費 --'}\n",
      "\n",
      "預測為非旅遊但實際上是旅遊的資料:\n",
      "caase: 1\n",
      "{'title': '[遊記] 一訪安通越嶺道', 'author': 'gimifa', 'time': {'year': '2015', 'month': 4, 'date': '15', 'hour': '23', 'minute': '06'}, 'content': '文章摘自：http://gimifa.blogspot.tw/2015/04/blog-post_15.html 安通越嶺道是古時一條穿越海岸山脈的聯絡道路，當時住在花東縱谷與東海岸原住民若要 彼此交流，就必須辛苦地跋涉過這一條的古道，是一條富有人文歷史氣息的古道。不過隨 著彼此間往來的方式變得越來越便捷，這條古道逐漸被世人所淡忘。我第一次聽到這條古 道的來由，是在\"健行筆記\"網站上的步道簡介中得知，上網瀏覽前人的遊記，資料也並不 是來得相當豐富，它就慢慢遺失在我記憶深處。直到有一次從台30省道要從穿越海岸山脈 ，才在離安通溫泉不遠處的路旁，看到了一塊不太起眼的小指示牌，上頭標示著\"安通越 嶺道\"的方向，腦中深處的記憶才再度被喚醒，原來安通越嶺道就是在這不起眼的地點， 心中亦默許有機會一定要來這安通越嶺道給好好地走上一回。 終於拜訪安通越嶺道的機會來了，在一個晴朗的白日，只因我的一個不經意的提議，又是 一場說走就走的遠行，騎了近一小時的車程，終於又遇到了台30省道上的\"安通越嶺道的 小指示牌，一路沿著裏頭的產業道路不斷前行，路的兩旁雜草叢生，芒草已經長得和人差 不多高了，道路也是坑坑洞洞的，感覺這一條路似乎已經荒廢許久，沒有人照護的痕跡。 不時有經過隱藏在森林的建築物，往裏頭一瞄，陰森的感覺油然心生，主人似乎已不生活 在這遠離塵囂的山林中，越接近步道的入口，道路越顯崎嶇，從30度左右的坡度逐漸晉升 至60度，讓我們不禁替我們有點年紀的機車捏把冷汗，這麼陡，到底可不可以騎得上去啊 ，好不容易，我們克服自己的恐懼，跨越了機車的極限，終於到達了步道的入口，門口上 寫著\"安通越嶺道\"的牌子雄糾糾地昂然挺立在那，等待我們這鮮少拜訪的稀客。 安通越嶺道現在只開放到第二座觀景台處，約距離入口兩公里的地方，想要再往下深入， 重現當初古道貫穿海岸山脈的風貌，就只能憑著自己不斷揮動鐮刀，砍撥雜草，拚出一條 道路。沿著步道的足跡往前邁進，地上積滿了落葉，木棧道上也長起了小草，漸漸能發現 其所呈現的原始風貌，似乎這裡鮮少有人來打擾，其實此言也不假，這天的安通越嶺道， 除了我們外，就只有一位來這寂靜山林中遊走泡茶的大叔而已。步道中兩旁除了長滿台灣 山林中常見的亞熱帶植物，我最喜歡的就是其中的竹林步道，一條綿延幾百公尺的竹林貫 穿在步道間，替寂靜空無的山林，增添了不少禪意。 安通越嶺道一路上的路程都算簡單易走，坡度起伏也不會來得太多，相當適合全家大小來 這裡踏青，體驗這寥無山林中的趣味。除了能漫步在山林間，越嶺道的第一個觀景台也能 俯瞰到太平洋，從層層的綠中忽然見至一望無際的藍，是一種心境的莫名轉變，從森森小 徑一步踏進可俯瞰太平洋的山腰，是如此的豁然開然。可惜的是，第二個觀景台四周已經 荒草蔓生，完全見不到海洋的蹤影，煞為可惜。而且至第二觀景台的路感覺也是許久無人 踏過，走在路上不時會不禁意的被蜘蛛絲所拌倒，下次如果再來可考慮至第一個觀景台就 可以。總體而言，安通越嶺道過往聯繫海岸山脈兩旁居民的功能已經變成歷史記憶，不過 現在的越嶺道卻留給喜歡享受寂靜山林的孤獨客，一個堪稱為秘境的小天地。 --'}\n",
      "caase: 2\n",
      "{'title': '[遊記] 南投 藏傘閣休閒文化園區', 'author': 'alittlebe', 'time': {'year': '2016', 'month': 10, 'date': '20', 'hour': '12', 'minute': '32'}, 'content': '【藏傘閣休閒文化園區】 地 址：南投縣竹山鎮延平路10號 電 話：049-2643411 開放時間：08:00-17:00 圖 文 版：http://julialkpkpk.pixnet.net/blog/post/453587591 藏傘閣休閒文化園區在竹山工業區內 鄰近的觀光工廠還有光遠燈籠、采棉居、遊山茶訪可一併順遊 藏傘閣屬於早期傳統的工廠建築 和現代化講求外觀與裝潢的觀光工廠相較之下讓人感受樸實許多 免費參觀、免費停車，因為廠區不大蠻快就能看完的 主角除了傘之外裏頭還有提供一些竹山在地美食，像是烤番薯霜淇淋、蛋糕甜點 因為沒有導覽的關係，所以我們也是自己走走看看囉 一進來目光就被天花板上的各式各樣五顏六色的雨傘所吸引，彷彿走入雨傘隧道 視聽室我們就沒進去了，當天有兩台遊覽車團客一進去都客滿了 一旁有關於傘的小故事喔，也有許多造型獨特的大傘小傘可以購買，上面都有標價 隔著落地窗看製傘過程 這裡還有一個最吸睛的就是這把台灣大傘王，根本就是傘界巨無霸吧 高度、直徑和重量都很驚人 接下來參觀的地方大都禁止拍照，所以就拍到大傘王這邊了 商品區所販售的傘依功能分成好多種，售價也不太便宜，不過特價的傘還是有的 竹山工業區內的觀光工廠可以一併安排參觀，行程會更豐富喔。 --'}\n",
      "caase: 3\n",
      "{'title': '[遊記] 香港四日遊D4-海安咖啡 預掛行李 往昂坪', 'author': 'triccsegg', 'time': {'year': '2016', 'month': 2, 'date': '14', 'hour': '14', 'minute': '25'}, 'content': '好讀網誌圖文版: http://triccsegg.pixnet.net/blog/post/208245850 ============================== 本文 ================================== 今日行程:海安咖啡室=>IBIS中上環酒店Check Out=>機場快線香港站預掛行李=>昂坪天壇 大佛&寶蓮寺=>東薈城名店倉Outlet=>香港赤鱲角機場=>桃園機場 最後一天的行程基本上就是去昂坪看大佛。 ▼今日行程-IBIS中上環酒店(A)、海安咖啡室(B)、機場快線香港站(C)、機場快線機場站 (D)、港鐵東涌站&前往昂坪的巴士站&東薈城Outlet(E)、昂坪天壇大佛&寶蓮寺(F)、香港 赤鱲角機場(G) http://triccsegg.pixnet.net/album/photo/208758716 趁著最後一天行程比較鬆，說什麼一定要去道地的茶餐廳用早餐。 海安咖啡室 海安咖啡室距IBIS中上環酒店步行時間約5分鐘。 早餐供應的是西式餐點，以及撈麵(類 似泡麵)。 一般來說都是點套餐會比較划算。 我本來想點波蘿油的，可惜賣完了，所以 最後點了E餐。 地址:上環干諾道西17號 電話:(852)25406340 營業時間: 周一~周四、周六:早上07:30~下午04:30 周五:早上07:30~下午03:00 周日及國定假日:公休 服務費:無 ▼海安咖啡室外觀 http://triccsegg.pixnet.net/album/photo/208006235 ▼店內 http://triccsegg.pixnet.net/album/photo/208006190 ▼菜單 http://triccsegg.pixnet.net/album/photo/208006175 ▼E餐(HK$27)-E餐內含出爐餐包、火腿(火腿/腸仔選一)、煎雙蛋、咖啡(咖啡/茶選一)。 咖啡的口味偏酸，滿特別的。 其餘的吃起來普普。 http://triccsegg.pixnet.net/album/photo/208006178 http://triccsegg.pixnet.net/album/photo/208006181 吃完早餐後，先回IBIS中上環酒店退房。 接下來，帶著行李搭港鐵前往香港站辦理市區 預辦登機。 機場快線香港站:市區預辦登機 市區預辦登機指的是在市區(不用到機場)向航空公司辦理報到-領取登機證並託運行李。 預辦登機不僅解決隨身攜帶大型行李的困擾，可遊玩的時間也會更有彈性(不須提早2小時 抵達機場辦理報到，只要在登機時間抵達登機門即可)。 市區預辦登機的注意事項如下(詳細資訊請參考機場快線官網): 1.只有機場快線香港站、九龍站，這兩站才有市區域辦登機的服務。 這兩站分別和港鐵 香港站、九龍站連通。 2.不是每家航空公司都可預辦登機，出發前請先和航空公司確認機票是否能預辦登機。 3.預辦登機不得晚於起飛之前90分鐘。 4.預辦登機是機場快線專屬的服務，因此需有機場快線的車票或八達通卡預扣車資(香港 站=>機場站 or 九龍站=>機場站)才可享受該服務。 5.前往預辦登機大廳前會經過一道感應閘門，須使用機場快線車票或八達通卡通關。 若 是使用八達通卡通關，會預扣機場快線該站至機場站的車資；以此卡通過月台的感應閘門 時，不會被再次收取車資。 6.進入預辦登機大廳的感應閘門和進入月台的感應閘門是分開的閘門。 也就是說，預辦 登機完後，可出香港站，不需要馬上搭車；不過若是已刷卡進入月台，就無法再出香港站 了。 我是搭乘港鐵到香港站辦理市區預辦登機。 雖然說港鐵香港站和機場快線香港站是連通 的，不過還是得先出港鐵香港站，才可前往機場快線香港站。 ▼港鐵香港站往機場快線香港站出口-這裡的閘門會結清搭乘港鐵的車資。 前方的電梯是 前往機場快線大廳的電梯，買票、換票都是在機場快線大廳辦理。 http://triccsegg.pixnet.net/album/photo/208006289 ▼機場快線提領券(HK$90，車票原價HK$100)-機場快線提領券是在機場的旅行社櫃台購買 的，比較便宜。 此票券無法直接使用，需至機場快線大廳櫃檯兌換為車票才可使用。 http://triccsegg.pixnet.net/album/photo/208006328 http://triccsegg.pixnet.net/album/photo/208006331 ▼往預辦登機大廳的電梯-機場快線大廳可看到一台往預辦登機大廳的電梯，搭它上樓就 對囉。 http://triccsegg.pixnet.net/album/photo/208006301 ▼預辦登機大廳閘門-此閘門需刷機場快線車票或八達通卡才可通過(請見本文「機場快線 香港站:市區預辦登機」之注意事項部分)。 http://triccsegg.pixnet.net/album/photo/208006313 ▼預辦登機大廳-請找到自己的航空公司櫃檯辦理報到手續。 大廳另設有幾台自助式報到 機，有興趣的朋友可自行試試。 http://triccsegg.pixnet.net/album/photo/208006325 當天沒什麼人排隊，所以花了5分鐘就辦完了手續。 接著，我搭電梯回機場快線大廳，進 入月台搭車前往機場。 機場快線香港站到機場站的車程約30分鐘。 ▼機場快線車廂內部 http://triccsegg.pixnet.net/album/photo/208006340 http://triccsegg.pixnet.net/album/photo/208006343 ▼沿途風景 http://triccsegg.pixnet.net/album/photo/208006349 ▼機場快線機場站-香港站到機場站車程約30分鐘。 http://triccsegg.pixnet.net/album/photo/208006355 香港赤鱲角機場前往昂坪交通方式 1.「機場=>港鐵東涌站」段:搭乘S1巴士 不論是搭昂坪纜車或大嶼山巴士至昂坪，都要先到港鐵東涌站，而無法由機場直達。 從 機場到港鐵東涌站的交通方式建議搭S1巴士，車程約10分鐘(無塞車時)。 巴士站在機場 二號客運大樓。 ▼機場快線機場站往二號客運大樓標示牌 http://triccsegg.pixnet.net/album/photo/208006358 ▼二號客運大樓巴士站 http://triccsegg.pixnet.net/album/photo/201955920 ▼S1巴士搭乘處-在地圖右側。 http://triccsegg.pixnet.net/album/photo/208730228 2.「港鐵東涌站=>昂坪」段:搭纜車或大嶼山巴士 前往昂坪一般是搭昂坪纜車。 我去的時候適逢纜車歲修(2015.09)，所以只能搭大嶼山巴 士，算是滿特別的體驗。 巴士單程票平日為HK$17.2，假日為HK$27；車程約45分。 ▼昂坪纜車站 http://triccsegg.pixnet.net/album/photo/208006367 ▼昂坪纜車歲修中 http://triccsegg.pixnet.net/album/photo/208006364 ▼替代交通方式說明-可搭大嶼山23號巴士，或直接搭計程車。 http://triccsegg.pixnet.net/album/photo/208757975 http://triccsegg.pixnet.net/album/photo/208757972 ▼大嶼山23號巴士等候處 http://triccsegg.pixnet.net/album/photo/208006373 ▼大嶼山23號巴士 http://triccsegg.pixnet.net/album/photo/208006376 (請繼續收看下篇Day4完結，或回Day3之一) -- 建蛋的生活軌跡 歡迎大家參觀 http://triccsegg.pixnet.net/blog --'}\n",
      "caase: 4\n",
      "{'title': '[遊記] 大阪通天閣', 'author': 'aso092201', 'time': {'year': '2016', 'month': 2, 'date': '6', 'hour': '21', 'minute': '01'}, 'content': '網誌圖文版：http://aso092201.pixnet.net/blog/post/381497482 由於昨天狂跑八個行程過於疲累 今天決定來點較經鬆的旅程 主要以購物、吃美食和參觀歷史建築跟藝文設施為主 早上從容地出門，來到道頓堀採購回台的伴手禮 此刻正值週一的上班時間，道頓堀商街上遊客不多 偶而幾艘觀光包船在水道穿梭，相當悠閒 採買完畢，在南海難波站的地下街寄放行李與採購物品 搭乘地鐵來到日本橋站，再換乘界筋線來到惠美須町站 準備前往今日行程中的第一個景點—通天閣 界筋線的日本橋站與惠美須町站只有一站的距離，轉眼就到了 出站後，來到地面的出口處，那個鐵塔般外型的通天閣已在眼前 在地鐵站出口與通天閣間，是一條「通天閣本通」的商店街 這一條商店街，從昭和時代就存在，已有數十年的歷史 在當時，是大阪地區最為熱鬧與進步的地區 幾十年來，通天閣本通也一直在變化 本通的兩側從低矮的房舍，變成了整齊的商街樓房 商店前寬闊的騎樓，上頭搭著整齊又美觀的遮雨棚 讓所有來通天閣遊覽的遊客們在這兒可以不用受天氣影響盡情閒逛 騎樓的走廊上頭，掛著各種歡迎遊客的布條 布條上以各種可愛逗趣的漫畫向遊客們招呼 並介紹著通天閣本通的特色與各種必買商品 沿著通天閣本通走到底，終於看到通天閣的基座 通天閣本身是鐵塔外型的建築，由四根斜放的角架支撐著一個平台 平台上方便是通天閣的本體，而它的下方是縷空的 在這裡，向上仰望基座底部，這空間頗為寬廣 上頭彩繪著色彩鮮艷的各種花彩圖騰 而通天閣的入口，在在於平台下方其中一根支撐角架旁 這個入口處的位置有些奇怪 我們應該是要到通天閣的塔頂上看風景 但這個入口卻是一處通往地下室的樓梯 經了解發現，以往要登上塔頂，必須從外部的鐵架上攀爬 為方便觀光客遊覽，經過一些設計上的改良 這裡的管理單位在通天閣的地下，打造一個空間 一旁設有電梯，從地下將遊客接引到特定的高度 將電梯管道間與鐵塔第一層平台間造一座小天橋 作為遊客進入通天閣的通道 這個連通的天橋，在外觀上並不顯眼，減少與通天閣的本體的違和感 而在天橋的內部以不透光的構材包覆，並根據形體設計成電車的意象 如果登塔的遊客沒有特別注意，不知道這電車的設計空間本是天橋呢 從入口處沿著五種條狀顏色彩繪成的樓梯一路向下 這裡是通天閣地下的商場，販售著各種以通天閣主題有關的特色商品 一旁還有個黃色小鴨主題商品的賣場與一處中等規模的表演廳 通過熱鬧的地下商場後，走到底便是往通天閣的電梯與售票處 我們這兩天靠著大阪週遊卡，享受許多免費的設施 熱門的通天閣當然也不用再另外買票，但仍需在櫃台兌換參觀票券 參觀的當天雖非假日，但由於通天閣電梯容量很有限 根據入口處的螢幕顯示，我們可能還要再等待二十幾分鐘 等待的同時，先到一旁參觀通天閣的模型及相關介紹 這才發現，原來通天閣早在1912年就已建立，如今已百歲高齡 想必在當時，應該在世界高樓建築中排有前幾名吧 搭上電梯並穿過天橋後，就來到通天閣最底層的平台 在這裡才算進入通天閣的建築本身 要前往通天閣頂部的觀景台，必須再這裡繼續排隊等候電梯 經過約半小時的排隊，終於搭上往電梯來到觀景平台 可能由於總量管制，頂層平台人潮少了很多，更能悠閒地參觀 通天閣頂層的觀景平台視野遼闊 大片的玻璃沿著通天閣鋼構接合而成 在觀景圍繞著電梯，形成一處環狀的走廊 每一個轉角處，都放置一個金黃色的吉祥物 在某些地方，還可以發現卡通人物的玩偶客串期間 從觀景平台向下俯瞰，通天閣本通與附近的街景相當清晰 阪界電車的車站，就在稍早經過的惠美須町站出口處後方 地上與地面的轉乘相當方便 另一側是高樓大廈較為集中的辦公大樓集中區域 再往一旁望去，高樓群中有一片頗為遼廣的綠地 綠地旁有一片佔地頗大的廣場 而近鐵阿倍野大廈，就在這座廣場的對街 往更遠處望去，城市中的高樓大廈往近郊的小丘延伸而去 在晴朗的天空中，感覺一片欣欣向榮 另一個方向，高樓大廈就比較少一些 天空也變得有些朦朧，視野的盡頭似乎是大阪港附近的區域 依稀可看見昨天在大阪港附近看到的那座壯觀的紅色鐵橋 在頂層的觀景平台上逗留一會兒 沿著參觀動線，從電梯旁的螺旋狀樓梯走下 接著來到第二層的平台 這裡有個小展場，展示著1920年代通天閣週邊的街景模型 以及當時舉辦大型博覽會的宣傳海報，可以想像當年的熱鬧 阪界電車也是在這個時期設置 當時是大阪連接週邊城市的重要交通工具 車站週邊的區域，也隨著列車開通而繁華 這樣的情景，透過一旁阪界電車站及附近街景模型更清楚呈現 當時的通天閣週邊，可說是日夜都精彩的不夜城 透過燈光的投射與模型的呈現，更能感受1920年代居民生活的樣態 動物園、旋轉木馬與空中纜車，這些現在看起來平常的遊樂設施 百年前可是既新鮮又獨特的玩意呢 模型展示區外，是POCKY甜點的吧台 一旁那座以POCKY餅乾拼成的通天閣模型頗為吸睛 而通天閣的管理單位，也在一旁放置通天閣的組合紙板供免費索取 在出口處，則放置一座通天閣及其吉祥物角色扮演的裝置 吸引許多遊客KUSO拍照 在通天閣逛了一大圈，離開時已經過了中午 繼續搭乘地鐵來到「天神橋筋六丁目」 用過餐，繼續下午大阪今昔生活館參觀行程 --'}\n",
      "caase: 5\n",
      "{'title': 'Fw: [遊記]【宜蘭】宜蘭餅觀光食品工廠-牛舌餅', 'author': 'i159753', 'time': {'year': '2015', 'month': 3, 'date': '20', 'hour': '21', 'minute': '43'}, 'content': '※ [本文轉錄自 I-Lan 看板 #1L32FFTX ] 作者: i159753 (甜) 看板: I-Lan 標題: [遊記]【宜蘭】宜蘭餅觀光食品工廠-牛舌餅 時間: Fri Mar 20 21:42:15 2015 旅遊景點：宜蘭餅發明館 宜蘭餅觀光工廠 電話：03-9908869 地址：宜蘭縣蘇澳鎮隘丁里海山西路369號 我就是要DIY宜蘭餅啦：http://nixojov.pixnet.net/blog/post/265514296 牛舌餅可說是宜蘭在地的名產 那什麼是宜蘭餅呢？跟牛舌餅有關嗎？ 其實宜蘭餅就是改良式比較薄的牛舌餅啦~~! 今天我們介紹的就是宜蘭餅的觀光工廠 說到觀光工廠，當然少不了DIY囉 這邊的DIY是採預約制 現場也可以報名，但是常常會撲空 因為我們時間抓的剛剛好 到場時已經開始了，馬上衝向二樓 看到一旁的裝置物相當特別，拍了一下 馬上開始我們今天的 宜蘭餅DIY 來到DIY場地後，桌上會有二團麵團與二隻棍子 一個是內餡，一個是外皮 先揉圓 再拉成長條型 切成六等分 再把外皮的壓平 放入內餡 捏緊 再用棍子壓平 再把他滾成長條型，就很像我們平常吃的宜蘭餅 接下來只要送進烤箱後就完成了 因為要等個二十分鐘，所以我們就先到旁邊逛一下 原本一旁有現場人員製作流程可以參觀 但是我們去的那天是假日，所以沒有開放 一樓還有許多三、四十年代的產物 與工廠的相關介紹 此外，一樓還有販賣區，可以買一些伴手禮回家 逛著逛著，我們的DIY也終於烤好囉 離開前拍個照結束這次的 聲明： *每個人的口味不一，我是以自身經驗的給予建議，並非適用於所有人* -- 布咕布咕美食小天地～＊ 更多宜蘭美食、景點分享文：http://nixojov.pixnet.net/blog/post/114001475 布咕布咕美食小天地粉絲團：https://www.facebook.com/bukuhappyfoodworld -- ※ 發信站: 批踢踢實業坊(ptt.cc), 來自: 123.0.34.213 ※ 文章網址: https://www.ptt.cc/bbs/I-Lan/M.1426858959.A.761.html ※ 編輯: i159753 (123.0.34.213), 03/20/2015 21:43:02'}\n"
     ]
    }
   ],
   "source": [
    "import random\n",
    "\n",
    "def random_sample(data, sample_size=5):\n",
    "  return random.sample(data, min(len(data), sample_size))\n",
    "\n",
    "\n",
    "# 打印隨機抽取的資料\n",
    "print(\"預測為旅遊但實際上不是旅遊的資料:\")\n",
    "for idx, item in enumerate(random_sample(misclassified_data['predicted_travel_but_non_travel'])):\n",
    "  print(f'caase: {idx + 1}')\n",
    "  print(item)\n",
    "\n",
    "print(\"\\n預測為非旅遊但實際上是旅遊的資料:\")\n",
    "for idx, item in enumerate(random_sample(misclassified_data['predicted_non_travel_but_travel'])):\n",
    "  print(f'caase: {idx + 1}')\n",
    "  print(item)"
   ]
  }
 ],
 "metadata": {
  "kernelspec": {
   "display_name": "ir_final_doc_classifier",
   "language": "python",
   "name": "python3"
  },
  "language_info": {
   "codemirror_mode": {
    "name": "ipython",
    "version": 3
   },
   "file_extension": ".py",
   "mimetype": "text/x-python",
   "name": "python",
   "nbconvert_exporter": "python",
   "pygments_lexer": "ipython3",
   "version": "3.11.9"
  }
 },
 "nbformat": 4,
 "nbformat_minor": 2
}
