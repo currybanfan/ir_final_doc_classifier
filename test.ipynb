{
 "cells": [
  {
   "cell_type": "code",
   "execution_count": 17,
   "metadata": {},
   "outputs": [],
   "source": [
    "import torch\n",
    "from data_handler import DataHandler, load_encoded_data, create_dataset\n",
    "from model import TravelDocClassifier\n",
    "from cuda_utils import clear_cache, print_cuda_memory_info"
   ]
  },
  {
   "cell_type": "code",
   "execution_count": 18,
   "metadata": {},
   "outputs": [
    {
     "name": "stdout",
     "output_type": "stream",
     "text": [
      "Device: NVIDIA GeForce RTX 4070 SUPER\n",
      "Total Memory: 12.88 GB\n",
      "Reserved Memory: 0.47 GB\n",
      "Allocated Memory: 0.42 GB\n",
      "Free Memory: 0.05 GB\n"
     ]
    }
   ],
   "source": [
    "clear_cache()\n",
    "print_cuda_memory_info()"
   ]
  },
  {
   "cell_type": "markdown",
   "metadata": {},
   "source": [
    "### Testing"
   ]
  },
  {
   "cell_type": "code",
   "execution_count": 19,
   "metadata": {},
   "outputs": [],
   "source": [
    "data_handler = DataHandler(tokenizer_name='bert-base-chinese')\n",
    "\n",
    "encodings = load_encoded_data('encoded_data/test/encodings_256')\n",
    "labels = load_encoded_data('encoded_data/test/labels')\n",
    "\n",
    "test_dataset = create_dataset(encodings, labels)"
   ]
  },
  {
   "cell_type": "code",
   "execution_count": 20,
   "metadata": {},
   "outputs": [
    {
     "name": "stderr",
     "output_type": "stream",
     "text": [
      "Some weights of BertForSequenceClassification were not initialized from the model checkpoint at bert-base-chinese and are newly initialized: ['classifier.bias', 'classifier.weight']\n",
      "You should probably TRAIN this model on a down-stream task to be able to use it for predictions and inference.\n"
     ]
    },
    {
     "name": "stdout",
     "output_type": "stream",
     "text": [
      "Test Accuracy: 0.95%\n",
      "Confusion Matrix:\n",
      "[[2617  271]\n",
      " [ 259 7556]]\n"
     ]
    }
   ],
   "source": [
    "device = torch.device(\"cuda\" if torch.cuda.is_available() else \"cpu\")\n",
    "\n",
    "classifier = TravelDocClassifier(device=device, params_path='parameters/20240603_95_model_parameters.pth')\n",
    "test_accuracy, confusion = classifier.test(test_dataset)\n",
    "\n",
    "print(f\"Test Accuracy: {test_accuracy:.2f}%\")\n",
    "print(\"Confusion Matrix:\")\n",
    "print(confusion)"
   ]
  },
  {
   "cell_type": "code",
   "execution_count": 21,
   "metadata": {},
   "outputs": [
    {
     "data": {
      "image/png": "[encoded data removed]",
      "text/plain": [
       "<Figure size 800x600 with 1 Axes>"
      ]
     },
     "metadata": {},
     "output_type": "display_data"
    }
   ],
   "source": [
    "import matplotlib.pyplot as plt\n",
    "import seaborn as sns\n",
    "\n",
    "# 使用 Seaborn 的 heatmap 函數來創建熱力圖\n",
    "plt.figure(figsize=(8, 6))\n",
    "sns.heatmap(confusion, annot=True, fmt=\"d\", cmap=\"Blues\", cbar=False)\n",
    "\n",
    "# 加入標籤和標題\n",
    "plt.xlabel('Predicted Label')\n",
    "plt.ylabel('True Label')\n",
    "plt.title('Confusion Matrix Visualization')\n",
    "plt.show()"
   ]
  },
  {
   "cell_type": "code",
   "execution_count": 22,
   "metadata": {},
   "outputs": [
    {
     "name": "stdout",
     "output_type": "stream",
     "text": [
      "精確率 (Precision): 0.9099\n",
      "召回率 (Recall): 0.9062\n",
      "特異性 (Specificity): 0.9669\n",
      "F1 Score: 0.9080\n"
     ]
    }
   ],
   "source": [
    "tp, fn, fp, tn = confusion.ravel()\n",
    "\n",
    "# 精確率 (Precision)\n",
    "precision = tp / (tp + fp)\n",
    "\n",
    "# 召回率 (Recall)\n",
    "recall = tp / (tp + fn)\n",
    "\n",
    "# 特異性 (Specificity)\n",
    "specificity = tn / (tn + fp)\n",
    "\n",
    "# F1 Score\n",
    "f1_score = 2 * (precision * recall) / (precision + recall)\n",
    "\n",
    "print(f\"精確率 (Precision): {precision:.4f}\")\n",
    "print(f\"召回率 (Recall): {recall:.4f}\")\n",
    "print(f\"特異性 (Specificity): {specificity:.4f}\")\n",
    "print(f\"F1 Score: {f1_score:.4f}\")"
   ]
  }
 ],
 "metadata": {
  "kernelspec": {
   "display_name": "final",
   "language": "python",
   "name": "python3"
  },
  "language_info": {
   "codemirror_mode": {
    "name": "ipython",
    "version": 3
   },
   "file_extension": ".py",
   "mimetype": "text/x-python",
   "name": "python",
   "nbconvert_exporter": "python",
   "pygments_lexer": "ipython3",
   "version": "3.11.9"
  }
 },
 "nbformat": 4,
 "nbformat_minor": 2
}
