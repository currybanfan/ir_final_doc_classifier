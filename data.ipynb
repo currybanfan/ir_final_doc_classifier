{
 "cells": [
  {
   "cell_type": "code",
   "execution_count": 1,
   "metadata": {},
   "outputs": [],
   "source": [
    "import glob\n",
    "import json\n",
    "import re"
   ]
  },
  {
   "cell_type": "code",
   "execution_count": 12,
   "metadata": {},
   "outputs": [],
   "source": [
    "def write_json_data(path, data):\n",
    "    with open(path, 'w', encoding='utf-8') as file:\n",
    "        json.dump(data, file, ensure_ascii=False, indent=4)"
   ]
  },
  {
   "cell_type": "markdown",
   "metadata": {},
   "source": [
    "### 過濾原始資料"
   ]
  },
  {
   "cell_type": "code",
   "execution_count": 15,
   "metadata": {},
   "outputs": [],
   "source": [
    "files = glob.glob(\"IR-data/*.json\")\n",
    "\n",
    "filtered_data = []\n",
    "\n",
    "# 遍歷找到的檔案\n",
    "for file_path in files:\n",
    "    # 打開並讀取 JSON 檔案\n",
    "    with open(file_path, 'r', encoding='utf-8') as file:\n",
    "        try:\n",
    "            # 解析 JSON 數據\n",
    "            data_list = json.load(file)\n",
    "\n",
    "            for data in data_list:\n",
    "                if data['title'] != '文章已被刪除':\n",
    "                    # 刪除不需要的屬性\n",
    "                    del data['push']\n",
    "                    del data['date']\n",
    "                    del data['link']\n",
    "\n",
    "                    filtered_data.append(data)\n",
    "\n",
    "        except json.JSONDecodeError:\n",
    "                print(f\"Error decoding JSON from file {file_path}\")\n",
    "\n",
    "filtered_data_output_file = 'output/filtered_data.json'\n",
    "write_json_data(filtered_data_output_file, filtered_data)\n",
    "\n",
    "len(filtered_data)"
   ]
  },
  {
   "cell_type": "markdown",
   "metadata": {},
   "source": [
    "### 檢視所有標題標籤"
   ]
  },
  {
   "cell_type": "code",
   "execution_count": 21,
   "metadata": {},
   "outputs": [
    {
     "data": {
      "text/plain": [
       "[('遊記', 23002),\n",
       " ('交易', 13961),\n",
       " ('心得', 4870),\n",
       " ('問題', 3205),\n",
       " ('廣告', 2301),\n",
       " ('食記', 2108),\n",
       " ('徵伴', 1307),\n",
       " ('分享', 257),\n",
       " ('情報', 242),\n",
       " ('住宿', 230),\n",
       " ('問卷', 215),\n",
       " ('新聞', 132),\n",
       " ('資訊', 125),\n",
       " ('徵求', 124),\n",
       " ('公告', 108),\n",
       " ('講座', 104),\n",
       " ('揪團', 76),\n",
       " ('贈送', 70),\n",
       " ('黑特', 67),\n",
       " ('旅遊', 66),\n",
       " ('玩樂', 46),\n",
       " ('閒聊', 44),\n",
       " ('請益', 44),\n",
       " ('轉讓', 43),\n",
       " ('美食', 40),\n",
       " ('廣宣', 38),\n",
       " ('相簿', 32),\n",
       " ('活動', 30),\n",
       " ('已售出', 30),\n",
       " ('售出', 26),\n",
       " ('票券', 23),\n",
       " ('請問', 22),\n",
       " ('轉錄', 19),\n",
       " ('抱怨', 18),\n",
       " ('買賣', 18),\n",
       " ('推薦', 18),\n",
       " ('徵', 18)]"
      ]
     },
     "execution_count": 21,
     "metadata": {},
     "output_type": "execute_result"
    }
   ],
   "source": [
    "file = \"output/filtered_data.json\"\n",
    "\n",
    "titles = {}\n",
    "pattern = r\"\\[(.*?)\\]\"\n",
    "\n",
    "with open(file, 'r', encoding='utf-8') as file:\n",
    "    try:\n",
    "        # 解析 JSON 數據\n",
    "        data_list = json.load(file)\n",
    "\n",
    "        for data in data_list:\n",
    "            title = data['title']\n",
    "            match = re.search(pattern, title)\n",
    "            if match:\n",
    "                word = match.group(1)\n",
    "                if word not in titles:\n",
    "                    titles[word] = 1\n",
    "                else:\n",
    "                    titles[word] += 1\n",
    "\n",
    "    except json.JSONDecodeError:\n",
    "        print(f\"Error decoding JSON from file {file_path}\")\n",
    "\n",
    "filtered_titles = {key: value for key, value in titles.items() if value > 10}\n",
    "\n",
    "sorted(filtered_titles.items(), key=lambda x:x[1], reverse=True)"
   ]
  },
  {
   "cell_type": "code",
   "execution_count": 22,
   "metadata": {},
   "outputs": [],
   "source": [
    "travel_related_titles = ['遊記', '心得', '問題', '食記', '徵伴', '分享', '住宿', '新聞', '黑特', '旅遊', '玩樂', '請益', '美食', '抱怨', '推薦']\n",
    "\n",
    "# 徵求 揪團 廣宣 活動\n",
    "non_travel_related_titles = ['交易', '廣告', '情報', '問卷', '資訊', '徵求', '公告', '講座', '揪團', '贈送', '閒聊', '轉讓', '廣宣', '活動', '已售出', '售出', '票券', '請問', '轉錄', '買賣', '徵']"
   ]
  },
  {
   "cell_type": "markdown",
   "metadata": {},
   "source": [
    "### 根據標題標籤分類旅遊、非旅遊相關的文章"
   ]
  },
  {
   "cell_type": "code",
   "execution_count": 24,
   "metadata": {},
   "outputs": [
    {
     "data": {
      "text/plain": [
       "(39072, 14439)"
      ]
     },
     "execution_count": 24,
     "metadata": {},
     "output_type": "execute_result"
    }
   ],
   "source": [
    "travel_pattern = re.compile(r'\\[' + '|'.join(travel_related_titles) + r'\\]')\n",
    "non_travel_pattern = re.compile(r'\\[' + '|'.join(non_travel_related_titles) + r'\\]')\n",
    "\n",
    "\n",
    "file = \"output/filtered_data.json\"\n",
    "\n",
    "classified_data = {\n",
    "    'travel-related' : [],\n",
    "    'non-travel-related' : []\n",
    "}\n",
    "\n",
    "with open(file, 'r', encoding='utf-8') as file:\n",
    "    try:\n",
    "        # 解析 JSON 數據\n",
    "        data_list = json.load(file)\n",
    "\n",
    "        for data in data_list:\n",
    "            title = data['title']\n",
    "            if re.search(travel_pattern, title):\n",
    "                # 添加到旅遊列表\n",
    "                classified_data['travel-related'].append(data)\n",
    "            elif re.search(non_travel_pattern, title):\n",
    "                # 添加到非旅遊列表\n",
    "                classified_data['non-travel-related'].append(data)\n",
    "\n",
    "    except json.JSONDecodeError:\n",
    "        print(f\"Error decoding JSON from file {file_path}\")\n",
    "\n",
    "\n",
    "travel_related_output_file = 'output/travel_related.json'\n",
    "non_travel_related_output_file = 'output/non_travel_related.json'\n",
    "\n",
    "write_json_data(travel_related_output_file, classified_data['travel-related'])\n",
    "write_json_data(non_travel_related_output_file, classified_data['non-travel-related'])\n",
    "\n",
    "len(classified_data['travel-related']), len(classified_data['non-travel-related'])"
   ]
  }
 ],
 "metadata": {
  "kernelspec": {
   "display_name": "final_project",
   "language": "python",
   "name": "python3"
  },
  "language_info": {
   "codemirror_mode": {
    "name": "ipython",
    "version": 3
   },
   "file_extension": ".py",
   "mimetype": "text/x-python",
   "name": "python",
   "nbconvert_exporter": "python",
   "pygments_lexer": "ipython3",
   "version": "3.11.9"
  }
 },
 "nbformat": 4,
 "nbformat_minor": 2
}
